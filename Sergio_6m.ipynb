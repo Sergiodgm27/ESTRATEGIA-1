{
 "cells": [
  {
   "cell_type": "code",
   "execution_count": 2,
   "metadata": {},
   "outputs": [],
   "source": [
    "import pandas as pd\n",
    "import numpy as np\n",
    "import yfinance as yf"
   ]
  },
  {
   "cell_type": "code",
   "execution_count": 5,
   "metadata": {},
   "outputs": [
    {
     "name": "stderr",
     "output_type": "stream",
     "text": [
      "[*********************100%%**********************]  503 of 503 completed\n",
      "\n",
      "4 Failed downloads:\n",
      "['BRK.B', 'PEAK', 'CDAY']: Exception('%ticker%: No timezone found, symbol may be delisted')\n",
      "['BF.B']: Exception('%ticker%: No price data found, symbol may be delisted (1d 2000-01-01 -> 2024-05-20)')\n"
     ]
    }
   ],
   "source": [
    "filepath = 'https://raw.githubusercontent.com/alfonso-santos/microcredencial-carteras-python-2023/main/Tema_5_APT/data/sp500_tickers.csv'\n",
    "tickers_sp500 = list(pd.read_csv(filepath))\n",
    "start_date = '2000-01-01'\n",
    "\n",
    "precios = yf.download(tickers_sp500, start=start_date)['Adj Close']\n",
    "\n",
    "precios_activos_sp500 = precios.copy()\n",
    "precios_activos_sp500.dropna(axis=1, inplace=True)\n",
    "ret_activos = np.log(precios_activos_sp500).diff().dropna()"
   ]
  },
  {
   "cell_type": "code",
   "execution_count": 37,
   "metadata": {},
   "outputs": [],
   "source": [
    "# Función para calcular los retornos medios del siguiente período para los tercios superior e inferior\n",
    "def calculate_terciles_means(df):\n",
    "    \n",
    "    top_tickers = []\n",
    "    bottom_tickers = []\n",
    "    # Desplazar el DataFrame para obtener los retornos del siguiente período\n",
    "    df_next = df.shift(-1)\n",
    "\n",
    "    # Ordenar los retornos del período actual\n",
    "    sorted_returns = df.apply(lambda x: x.sort_values().values, axis=1)\n",
    "\n",
    "    # Identificar el tamaño de cada tercio\n",
    "    tercio_size = df.shape[1] // 3\n",
    "\n",
    "    # Obtener los índices de los tercios superior e inferior\n",
    "    top_indices = np.argsort(df.values, axis=1)[:, -tercio_size:]\n",
    "    bottom_indices = np.argsort(df.values, axis=1)[:, :tercio_size]\n",
    "\n",
    "\n",
    "    # Calcular los retornos medios del siguiente período para los activos identificados\n",
    "    top_tercile_means = np.array([df_next.values[i, top_indices[i]].mean() for i in range(df.shape[0] - 1)])\n",
    "    bottom_tercile_means = np.array([df_next.values[i, bottom_indices[i]].mean() for i in range(df.shape[0] - 1)])\n",
    "    \n",
    "    df_result = pd.DataFrame({\n",
    "        'Top_Tercile_Mean_Next_Period': top_tercile_means,\n",
    "        'Bottom_Tercile_Mean_Next_Period': bottom_tercile_means\n",
    "    }, index=df.index[:-1])\n",
    "\n",
    "    # Crear el DataFrame con los resultados\n",
    "    return df_result\n",
    "# Calcular los retornos medios del siguiente período para los tercios superior e inferior\n"
   ]
  },
  {
   "cell_type": "code",
   "execution_count": 38,
   "metadata": {},
   "outputs": [
    {
     "name": "stdout",
     "output_type": "stream",
     "text": [
      "            Top_Tercile_Mean_Next_Period  Bottom_Tercile_Mean_Next_Period\n",
      "Date                                                                     \n",
      "2000-07-31                      0.061798                         0.105478\n",
      "2001-01-31                      0.037270                        -0.061724\n",
      "2001-07-31                      0.060643                        -0.049834\n",
      "2002-01-31                     -0.085752                        -0.316782\n",
      "2002-07-31                     -0.034806                        -0.021222\n",
      "2003-01-31                      0.218536                         0.252762\n",
      "2003-07-31                      0.186781                         0.155056\n",
      "2004-01-31                      0.033984                        -0.000364\n",
      "2004-07-31                      0.140770                         0.092380\n",
      "2005-01-31                      0.108004                         0.090764\n",
      "2005-07-31                      0.119139                         0.047975\n",
      "2006-01-31                      0.006315                        -0.015448\n",
      "2006-07-31                      0.124144                         0.190830\n",
      "2007-01-31                     -0.023114                         0.018182\n",
      "2007-07-31                     -0.041939                        -0.048780\n",
      "2008-01-31                     -0.016879                        -0.066954\n",
      "2008-07-31                     -0.474621                        -0.500493\n",
      "2009-01-31                      0.092042                         0.374699\n",
      "2009-07-31                      0.117600                         0.117693\n",
      "2010-01-31                      0.089121                         0.059237\n",
      "2010-07-31                      0.190474                         0.200844\n",
      "2011-01-31                     -0.013144                         0.026056\n",
      "2011-07-31                      0.054279                         0.027891\n",
      "2012-01-31                      0.058074                         0.024514\n",
      "2012-07-31                      0.087526                         0.193940\n",
      "2013-01-31                      0.131995                         0.125007\n",
      "2013-07-31                      0.099633                         0.068098\n",
      "2014-01-31                      0.064902                         0.100449\n",
      "2014-07-31                      0.066087                         0.074351\n",
      "2015-01-31                      0.036638                         0.046410\n",
      "2015-07-31                     -0.118469                        -0.084652\n",
      "2016-01-31                      0.142246                         0.190177\n",
      "2016-07-31                      0.082947                         0.079023\n",
      "2017-01-31                      0.080397                         0.082694\n",
      "2017-07-31                      0.150852                         0.134482\n",
      "2018-01-31                      0.014996                        -0.005891\n",
      "2018-07-31                     -0.014653                        -0.061048\n",
      "2019-01-31                      0.105342                         0.093827\n",
      "2019-07-31                      0.076879                         0.021148\n",
      "2020-01-31                      0.009144                        -0.110002\n",
      "2020-07-31                      0.092048                         0.218813\n",
      "2021-01-31                      0.207445                         0.141747\n",
      "2021-07-31                      0.043079                         0.026352\n",
      "2022-01-31                     -0.019381                        -0.100824\n",
      "2022-07-31                      0.019179                         0.053516\n",
      "2023-01-31                      0.028320                         0.021293\n",
      "2023-07-31                      0.049463                        -0.008914\n",
      "2024-01-31                      0.082744                         0.069010\n"
     ]
    }
   ],
   "source": [
    "terciles_means_next_period = calculate_terciles_means(ret_act_6m)\n",
    "\n",
    "print(terciles_means_next_period)\n"
   ]
  }
 ],
 "metadata": {
  "kernelspec": {
   "display_name": "Python 3",
   "language": "python",
   "name": "python3"
  },
  "language_info": {
   "codemirror_mode": {
    "name": "ipython",
    "version": 3
   },
   "file_extension": ".py",
   "mimetype": "text/x-python",
   "name": "python",
   "nbconvert_exporter": "python",
   "pygments_lexer": "ipython3",
   "version": "3.11.6"
  }
 },
 "nbformat": 4,
 "nbformat_minor": 2
}
